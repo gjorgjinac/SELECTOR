{
 "cells": [
  {
   "cell_type": "code",
   "execution_count": 94,
   "id": "56122e20-0448-42e0-8ec0-40c76ace39ba",
   "metadata": {},
   "outputs": [],
   "source": [
    "import pandas as pd\n",
    "import numpy as np\n",
    "from networkx import Graph, write_adjlist\n",
    "from sklearn.metrics.pairwise import cosine_similarity\n",
    "from collections import defaultdict\n",
    "from ela_feature_definition import ela_feature_names\n",
    "from networkx.algorithms.dominating import dominating_set\n",
    "from networkx.algorithms.mis import maximal_independent_set"
   ]
  },
  {
   "cell_type": "code",
   "execution_count": 112,
   "id": "764b6d95-612c-4339-88d4-d41bc9830a48",
   "metadata": {},
   "outputs": [
    {
     "name": "stdout",
     "output_type": "stream",
     "text": [
      "(10170, 70)\n",
      "(6630, 70)\n",
      "(6630, 70)\n"
     ]
    }
   ],
   "source": [
    "ela = pd.read_csv(\"data/ela_all.csv\",index_col=[0])\n",
    "print(ela.shape)\n",
    "ela = ela[ela['suite']!='all']\n",
    "print(ela.shape)\n",
    "ela = ela[~((ela['suite']=='cec2017')&(ela['fid']==2))]\n",
    "print(ela.shape)\n",
    "ela.to_csv('data/ela.csv')"
   ]
  },
  {
   "cell_type": "code",
   "execution_count": null,
   "id": "3daf160f-bd26-4a0c-9751-be7e83e6a67a",
   "metadata": {},
   "outputs": [],
   "source": [
    "ela[~((ela['suite']=='cec2017')&(ela['fid']==2))]"
   ]
  },
  {
   "cell_type": "code",
   "execution_count": 111,
   "id": "06f9ae22-576d-423d-94e3-085b889caeed",
   "metadata": {},
   "outputs": [
    {
     "data": {
      "text/plain": [
       "5761     1\n",
       "5791     3\n",
       "5821     4\n",
       "5851     5\n",
       "5881     6\n",
       "5911     7\n",
       "5941     8\n",
       "5971     9\n",
       "6001    10\n",
       "6031    11\n",
       "6061    12\n",
       "6091    13\n",
       "6121    14\n",
       "6151    15\n",
       "6181    16\n",
       "6211    17\n",
       "6241    18\n",
       "6271    19\n",
       "6301    20\n",
       "6331    21\n",
       "6361    22\n",
       "6391    23\n",
       "6421    24\n",
       "6451    25\n",
       "6481    26\n",
       "6511    27\n",
       "6541    28\n",
       "6571    29\n",
       "6601    30\n",
       "Name: fid, dtype: int64"
      ]
     },
     "execution_count": 111,
     "metadata": {},
     "output_type": "execute_result"
    }
   ],
   "source": [
    "ela[(ela['suite']=='cec2017')]['fid'].drop_duplicates()"
   ]
  },
  {
   "cell_type": "code",
   "execution_count": 101,
   "id": "b07ee8ff-8764-408c-b02c-7fe59e580328",
   "metadata": {},
   "outputs": [
    {
     "data": {
      "text/plain": [
       "1          bbob\n",
       "3601    cec2013\n",
       "4411    cec2014\n",
       "5311    cec2015\n",
       "5761    cec2017\n",
       "Name: suite, dtype: object"
      ]
     },
     "execution_count": 101,
     "metadata": {},
     "output_type": "execute_result"
    }
   ],
   "source": [
    "ela['suite'].drop_duplicates()"
   ]
  },
  {
   "cell_type": "code",
   "execution_count": 3,
   "id": "02e3514c-0222-45f3-a8e8-c13c47b55034",
   "metadata": {},
   "outputs": [],
   "source": [
    "from dom_mis import *"
   ]
  },
  {
   "cell_type": "code",
   "execution_count": 69,
   "id": "9e6314b9-17ee-44dd-ac6d-d4d6579f8e6b",
   "metadata": {},
   "outputs": [],
   "source": [
    "similarity_thresholds=[0.5,0.7,0.9]\n",
    "id_columns=['suite','fid', 'iid']"
   ]
  },
  {
   "cell_type": "code",
   "execution_count": 91,
   "id": "01b18737-73be-4bb6-8228-f966c390d222",
   "metadata": {},
   "outputs": [
    {
     "name": "stdout",
     "output_type": "stream",
     "text": [
      "missing value handling: dropna THRESHOLD: 0.5\n",
      " -node count: 339\n",
      " -edge count: 34642\n",
      " -dominant min: 7\n",
      " -dominant max: 10\n",
      " -dominant mean: 8.73\n",
      " -mis min: 8\n",
      " -mis max: 10\n",
      " -mis mean: 8.77\n",
      "\n",
      "missing value handling: dropna THRESHOLD: 0.7\n",
      " -node count: 339\n",
      " -edge count: 32275\n",
      " -dominant min: 11\n",
      " -dominant max: 15\n",
      " -dominant mean: 12.77\n",
      " -mis min: 11\n",
      " -mis max: 15\n",
      " -mis mean: 12.37\n",
      "\n",
      "missing value handling: dropna THRESHOLD: 0.9\n",
      " -node count: 339\n",
      " -edge count: 30513\n",
      " -dominant min: 31\n",
      " -dominant max: 35\n",
      " -dominant mean: 32.97\n",
      " -mis min: 31\n",
      " -mis max: 35\n",
      " -mis mean: 33.33\n",
      "\n"
     ]
    }
   ],
   "source": [
    "all_results=pd.DataFrame()\n",
    "produced_instances_statistics=[]\n",
    "for na_handling_setting_name in ['dropna']:\n",
    "    ela_representation_df = pd.read_csv(f'data/aggregated_ela_representation_{na_handling_setting_name}.csv', index_col=[0,1,2])\n",
    "    s = cosine_similarity(ela_representation_df.values,ela_representation_df.values)\n",
    "    similarity_df=pd.DataFrame(s,index=ela_representation_df.index,columns=ela_representation_df.index)\n",
    "    \n",
    "    for min_similarity_threshold in similarity_thresholds:\n",
    "        print(f'missing value handling: {na_handling_setting_name} THRESHOLD: {min_similarity_threshold}')\n",
    "        g=generate_graph_from_similarity_matrix(similarity_df, min_similarity_threshold)\n",
    "        print(f' -node count: {len(g.nodes)}')\n",
    "        print(f' -edge count: {len(g.edges)}')\n",
    "        for algorithm_name in ['dominant','mis']:\n",
    "            instances_produced=[]\n",
    "            for run_id in range(0,30):\n",
    "                result_directory=os.path.join('results',na_handling_setting_name,algorithm_name)\n",
    "                result_file_name=os.path.join(result_directory,f'{min_similarity_threshold}_{run_id}.csv')\n",
    "                result_df = pd.read_csv(result_file_name,index_col=[0,1,2])\n",
    "                result_df['run_id']=run_id\n",
    "                result_df['algorithm_name']=algorithm_name\n",
    "                result_df['min_similarity_threshold']=min_similarity_threshold\n",
    "                result_df['na_handling_setting_name']=na_handling_setting_name\n",
    "                all_results=all_results.append(result_df)\n",
    "                instances_produced.append(result_df.shape[0])\n",
    "                \n",
    "            instances_produced=np.array(instances_produced)\n",
    "            algorithm_config_stats = {'edge count': len(g.edges),\n",
    "                                      'min': instances_produced.min(),\n",
    "                                          'max': instances_produced.max(),\n",
    "                                          'mean': round(instances_produced.mean(),2),\n",
    "                                     'algorithm': 'DS' if algorithm_name=='dominant' else 'MIS',\n",
    "                                     'min similarity threshold': min_similarity_threshold}\n",
    "            produced_instances_statistics.append(algorithm_config_stats)\n",
    "            for stat_name in ['min','max','mean']:\n",
    "                print(f' -{algorithm_name} {stat_name}: {algorithm_config_stats[stat_name]}')\n",
    "            \n",
    "        print()"
   ]
  },
  {
   "cell_type": "code",
   "execution_count": 92,
   "id": "3485357f-c7d1-4811-b30b-be55ac5a7299",
   "metadata": {},
   "outputs": [],
   "source": [
    "produced_instances_statistics_df = pd.DataFrame.from_records(produced_instances_statistics).set_index(['min similarity threshold','algorithm'])"
   ]
  },
  {
   "cell_type": "code",
   "execution_count": 93,
   "id": "69a31da1-7a19-4e07-a2c6-093db60b5336",
   "metadata": {},
   "outputs": [],
   "source": [
    "produced_instances_statistics_df.to_latex('produced_instances_statistics')"
   ]
  },
  {
   "cell_type": "code",
   "execution_count": null,
   "id": "88562d3a-379f-4f46-bcca-3352cb58dea6",
   "metadata": {},
   "outputs": [],
   "source": [
    "df = pd.read_csv('data/ela.csv', index_col=[0])"
   ]
  },
  {
   "cell_type": "code",
   "execution_count": null,
   "id": "b3d5bd15-eee9-4bad-8da8-47d14727ead7",
   "metadata": {},
   "outputs": [],
   "source": [
    "df['suite'].drop_duplicates()"
   ]
  },
  {
   "cell_type": "code",
   "execution_count": 42,
   "id": "fed81fbe-1fe5-47f4-bde4-f0075fab4829",
   "metadata": {},
   "outputs": [],
   "source": [
    "id_cluster = df[['cluster']+id_columns].drop_duplicates()"
   ]
  },
  {
   "cell_type": "code",
   "execution_count": 47,
   "id": "f2099973-743f-4f7f-8bcd-48b2c9d8fcec",
   "metadata": {},
   "outputs": [],
   "source": [
    "all_results_copy=all_results.reset_index()"
   ]
  },
  {
   "cell_type": "code",
   "execution_count": 49,
   "id": "c2366557-dfbd-419e-825c-07c5b73fd0d4",
   "metadata": {},
   "outputs": [
    {
     "data": {
      "text/plain": [
       "Index(['level_0', 'suite', 'fid', 'iid', 'run_id', 'algorithm_name',\n",
       "       'min_similarity_threshold', 'na_handling_setting_name'],\n",
       "      dtype='object')"
      ]
     },
     "execution_count": 49,
     "metadata": {},
     "output_type": "execute_result"
    }
   ],
   "source": [
    "all_results_copy.columns"
   ]
  },
  {
   "cell_type": "code",
   "execution_count": 52,
   "id": "567874c7-3b9a-408a-a216-0a7687665695",
   "metadata": {},
   "outputs": [],
   "source": [
    "all_results_copy=all_results_copy.merge(id_cluster, left_on=id_columns, right_on=id_columns)"
   ]
  },
  {
   "cell_type": "code",
   "execution_count": 61,
   "id": "0d532b7d-4be7-44b1-8963-68677148de44",
   "metadata": {},
   "outputs": [],
   "source": [
    "all_results_grouped = all_results_copy.groupby(['na_handling_setting_name','min_similarity_threshold','algorithm_name','run_id','cluster']).count()\n",
    "all_results_grouped['fid'].to_csv('cluster_dist.csv')"
   ]
  },
  {
   "cell_type": "code",
   "execution_count": 65,
   "id": "53d2dbbb-548f-4a99-a9b8-9a1a90d2325d",
   "metadata": {},
   "outputs": [
    {
     "name": "stdout",
     "output_type": "stream",
     "text": [
      "                                                                         cluster\n",
      "na_handling_setting_name min_similarity_threshold algorithm_name run_id         \n",
      "dropna                   0.50                     dominant       0             6\n",
      "                                                                 1             6\n",
      "                                                                 2             6\n",
      "                                                                 3             8\n",
      "                                                                 4             5\n",
      "...                                                                          ...\n",
      "fillna                   0.95                     mis            25           14\n",
      "                                                                 26           16\n",
      "                                                                 27           16\n",
      "                                                                 28           19\n",
      "                                                                 29           14\n",
      "\n",
      "[480 rows x 1 columns]\n"
     ]
    }
   ],
   "source": [
    "all_results_grouped = all_results_copy[['na_handling_setting_name','min_similarity_threshold','algorithm_name','run_id','cluster']].drop_duplicates().groupby(['na_handling_setting_name','min_similarity_threshold','algorithm_name','run_id']).count()\n",
    "print(all_results_grouped)\n",
    "all_results_grouped['cluster'].to_csv('number of unique clusters.csv')"
   ]
  },
  {
   "cell_type": "code",
   "execution_count": 58,
   "id": "8fdef366-e151-49ab-82d9-a5c9ac44ff25",
   "metadata": {},
   "outputs": [
    {
     "data": {
      "text/html": [
       "<div>\n",
       "<style scoped>\n",
       "    .dataframe tbody tr th:only-of-type {\n",
       "        vertical-align: middle;\n",
       "    }\n",
       "\n",
       "    .dataframe tbody tr th {\n",
       "        vertical-align: top;\n",
       "    }\n",
       "\n",
       "    .dataframe thead th {\n",
       "        text-align: right;\n",
       "    }\n",
       "</style>\n",
       "<table border=\"1\" class=\"dataframe\">\n",
       "  <thead>\n",
       "    <tr style=\"text-align: right;\">\n",
       "      <th></th>\n",
       "      <th>level_0</th>\n",
       "      <th>suite</th>\n",
       "      <th>fid</th>\n",
       "      <th>iid</th>\n",
       "      <th>run_id</th>\n",
       "      <th>algorithm_name</th>\n",
       "      <th>min_similarity_threshold</th>\n",
       "      <th>na_handling_setting_name</th>\n",
       "      <th>cluster</th>\n",
       "    </tr>\n",
       "  </thead>\n",
       "  <tbody>\n",
       "    <tr>\n",
       "      <th>0</th>\n",
       "      <td>0</td>\n",
       "      <td>bbob</td>\n",
       "      <td>17</td>\n",
       "      <td>5</td>\n",
       "      <td>0</td>\n",
       "      <td>dominant</td>\n",
       "      <td>0.50</td>\n",
       "      <td>dropna</td>\n",
       "      <td>20</td>\n",
       "    </tr>\n",
       "    <tr>\n",
       "      <th>1</th>\n",
       "      <td>0</td>\n",
       "      <td>bbob</td>\n",
       "      <td>17</td>\n",
       "      <td>5</td>\n",
       "      <td>8</td>\n",
       "      <td>dominant</td>\n",
       "      <td>0.50</td>\n",
       "      <td>dropna</td>\n",
       "      <td>20</td>\n",
       "    </tr>\n",
       "    <tr>\n",
       "      <th>2</th>\n",
       "      <td>0</td>\n",
       "      <td>bbob</td>\n",
       "      <td>17</td>\n",
       "      <td>5</td>\n",
       "      <td>26</td>\n",
       "      <td>dominant</td>\n",
       "      <td>0.50</td>\n",
       "      <td>dropna</td>\n",
       "      <td>20</td>\n",
       "    </tr>\n",
       "    <tr>\n",
       "      <th>3</th>\n",
       "      <td>0</td>\n",
       "      <td>bbob</td>\n",
       "      <td>17</td>\n",
       "      <td>5</td>\n",
       "      <td>0</td>\n",
       "      <td>dominant</td>\n",
       "      <td>0.70</td>\n",
       "      <td>dropna</td>\n",
       "      <td>20</td>\n",
       "    </tr>\n",
       "    <tr>\n",
       "      <th>4</th>\n",
       "      <td>0</td>\n",
       "      <td>bbob</td>\n",
       "      <td>17</td>\n",
       "      <td>5</td>\n",
       "      <td>8</td>\n",
       "      <td>dominant</td>\n",
       "      <td>0.70</td>\n",
       "      <td>dropna</td>\n",
       "      <td>20</td>\n",
       "    </tr>\n",
       "    <tr>\n",
       "      <th>...</th>\n",
       "      <td>...</td>\n",
       "      <td>...</td>\n",
       "      <td>...</td>\n",
       "      <td>...</td>\n",
       "      <td>...</td>\n",
       "      <td>...</td>\n",
       "      <td>...</td>\n",
       "      <td>...</td>\n",
       "      <td>...</td>\n",
       "    </tr>\n",
       "    <tr>\n",
       "      <th>12554</th>\n",
       "      <td>0</td>\n",
       "      <td>all</td>\n",
       "      <td>12</td>\n",
       "      <td>1</td>\n",
       "      <td>17</td>\n",
       "      <td>mis</td>\n",
       "      <td>0.95</td>\n",
       "      <td>fillna</td>\n",
       "      <td>23</td>\n",
       "    </tr>\n",
       "    <tr>\n",
       "      <th>12555</th>\n",
       "      <td>0</td>\n",
       "      <td>cec2015</td>\n",
       "      <td>10</td>\n",
       "      <td>1</td>\n",
       "      <td>19</td>\n",
       "      <td>mis</td>\n",
       "      <td>0.95</td>\n",
       "      <td>fillna</td>\n",
       "      <td>21</td>\n",
       "    </tr>\n",
       "    <tr>\n",
       "      <th>12556</th>\n",
       "      <td>0</td>\n",
       "      <td>cec2017</td>\n",
       "      <td>22</td>\n",
       "      <td>1</td>\n",
       "      <td>23</td>\n",
       "      <td>mis</td>\n",
       "      <td>0.95</td>\n",
       "      <td>fillna</td>\n",
       "      <td>19</td>\n",
       "    </tr>\n",
       "    <tr>\n",
       "      <th>12557</th>\n",
       "      <td>0</td>\n",
       "      <td>cec2014</td>\n",
       "      <td>20</td>\n",
       "      <td>1</td>\n",
       "      <td>25</td>\n",
       "      <td>mis</td>\n",
       "      <td>0.95</td>\n",
       "      <td>fillna</td>\n",
       "      <td>21</td>\n",
       "    </tr>\n",
       "    <tr>\n",
       "      <th>12558</th>\n",
       "      <td>1</td>\n",
       "      <td>all</td>\n",
       "      <td>119</td>\n",
       "      <td>1</td>\n",
       "      <td>27</td>\n",
       "      <td>mis</td>\n",
       "      <td>0.95</td>\n",
       "      <td>fillna</td>\n",
       "      <td>24</td>\n",
       "    </tr>\n",
       "  </tbody>\n",
       "</table>\n",
       "<p>12559 rows × 9 columns</p>\n",
       "</div>"
      ],
      "text/plain": [
       "       level_0    suite  fid  iid  run_id algorithm_name  \\\n",
       "0            0     bbob   17    5       0       dominant   \n",
       "1            0     bbob   17    5       8       dominant   \n",
       "2            0     bbob   17    5      26       dominant   \n",
       "3            0     bbob   17    5       0       dominant   \n",
       "4            0     bbob   17    5       8       dominant   \n",
       "...        ...      ...  ...  ...     ...            ...   \n",
       "12554        0      all   12    1      17            mis   \n",
       "12555        0  cec2015   10    1      19            mis   \n",
       "12556        0  cec2017   22    1      23            mis   \n",
       "12557        0  cec2014   20    1      25            mis   \n",
       "12558        1      all  119    1      27            mis   \n",
       "\n",
       "       min_similarity_threshold na_handling_setting_name  cluster  \n",
       "0                          0.50                   dropna       20  \n",
       "1                          0.50                   dropna       20  \n",
       "2                          0.50                   dropna       20  \n",
       "3                          0.70                   dropna       20  \n",
       "4                          0.70                   dropna       20  \n",
       "...                         ...                      ...      ...  \n",
       "12554                      0.95                   fillna       23  \n",
       "12555                      0.95                   fillna       21  \n",
       "12556                      0.95                   fillna       19  \n",
       "12557                      0.95                   fillna       21  \n",
       "12558                      0.95                   fillna       24  \n",
       "\n",
       "[12559 rows x 9 columns]"
      ]
     },
     "execution_count": 58,
     "metadata": {},
     "output_type": "execute_result"
    }
   ],
   "source": [
    "all_results_copy"
   ]
  },
  {
   "cell_type": "code",
   "execution_count": null,
   "id": "19f48eb7-1c37-438d-8c16-2c6d01bdf9d3",
   "metadata": {},
   "outputs": [],
   "source": []
  }
 ],
 "metadata": {
  "kernelspec": {
   "display_name": "Python 3 (ipykernel)",
   "language": "python",
   "name": "python3"
  },
  "language_info": {
   "codemirror_mode": {
    "name": "ipython",
    "version": 3
   },
   "file_extension": ".py",
   "mimetype": "text/x-python",
   "name": "python",
   "nbconvert_exporter": "python",
   "pygments_lexer": "ipython3",
   "version": "3.9.7"
  }
 },
 "nbformat": 4,
 "nbformat_minor": 5
}
