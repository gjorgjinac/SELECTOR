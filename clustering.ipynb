{
 "cells": [
  {
   "cell_type": "code",
   "execution_count": 7,
   "id": "cd77664c-79eb-4cf1-a7ea-763501b848e5",
   "metadata": {},
   "outputs": [],
   "source": [
    "from ela_feature_definition import ela_feature_names\n",
    "import pandas as pd\n",
    "import random\n",
    "import numpy as np\n",
    "from yellowbrick.cluster import SilhouetteVisualizer\n",
    "from sklearn.cluster import *\n",
    "from sklearn.preprocessing import MinMaxScaler\n",
    "import pandas as pd\n",
    "from sklearn.cluster import AgglomerativeClustering\n",
    "from sklearn.decomposition import *\n",
    "from sklearn.metrics.cluster import adjusted_rand_score\n",
    "import numpy as np\n",
    "from sklearn.metrics import pairwise_distances\n",
    "from sklearn.metrics import silhouette_samples, silhouette_score\n",
    "import numpy as np"
   ]
  },
  {
   "cell_type": "code",
   "execution_count": 8,
   "id": "e13f2319-ef02-452f-a6dc-3a6686cd697c",
   "metadata": {},
   "outputs": [],
   "source": [
    "save_clusters=False"
   ]
  },
  {
   "cell_type": "code",
   "execution_count": 9,
   "id": "304d660e-4b7a-451d-b77e-8405d0c94af9",
   "metadata": {},
   "outputs": [],
   "source": [
    "def set_random_seed(seed):\n",
    "    np.random.seed(seed)\n",
    "    random.seed(seed)\n",
    "set_random_seed(42)"
   ]
  },
  {
   "cell_type": "code",
   "execution_count": 10,
   "id": "67e9f75b-4a63-4994-a8cf-c74d672529fb",
   "metadata": {},
   "outputs": [],
   "source": [
    "def evaluate_clustering(df, cluster_count):\n",
    "    results_for_cluster={}\n",
    "    labels =  AgglomerativeClustering(n_clusters=cluster_count, affinity='cosine', linkage='complete').fit(df).labels_\n",
    "    results_for_cluster['labels'] = labels\n",
    "    samples_per_cluster={k[0]:v for k,v in pd.DataFrame(labels).value_counts().to_dict().items()}\n",
    "    results_for_cluster['samples_per_cluster']=samples_per_cluster\n",
    "    results_for_cluster['silhouette_score'] =silhouette_score(df, labels, metric='cosine')\n",
    "    sample_silhouette_values = silhouette_samples(df, labels, metric='cosine')\n",
    "    return results_for_cluster"
   ]
  },
  {
   "cell_type": "code",
   "execution_count": 11,
   "id": "1a7f7480-93df-4fca-9603-4c3dc62645a9",
   "metadata": {},
   "outputs": [],
   "source": [
    "ela = pd.read_csv('data/aggregated_ela_representation_dropna.csv',index_col=[0,1,2])\n",
    "ela=ela[set(ela_feature_names).intersection(ela.columns)]"
   ]
  },
  {
   "cell_type": "code",
   "execution_count": 12,
   "id": "60cfbd0c-1edf-46c2-9e3f-9561e69ec2fb",
   "metadata": {},
   "outputs": [],
   "source": [
    "clustering_results={}\n",
    "for cluster_count in range(2, 100):\n",
    "    clustering_results[f'cluster_{cluster_count}']=evaluate_clustering(ela.copy(),cluster_count)\n",
    "clustering_results_df=pd.DataFrame(clustering_results).T"
   ]
  },
  {
   "cell_type": "code",
   "execution_count": 13,
   "id": "66089d91-f147-4cdd-a3ca-1712585d3cca",
   "metadata": {},
   "outputs": [
    {
     "data": {
      "text/html": [
       "<div>\n",
       "<style scoped>\n",
       "    .dataframe tbody tr th:only-of-type {\n",
       "        vertical-align: middle;\n",
       "    }\n",
       "\n",
       "    .dataframe tbody tr th {\n",
       "        vertical-align: top;\n",
       "    }\n",
       "\n",
       "    .dataframe thead th {\n",
       "        text-align: right;\n",
       "    }\n",
       "</style>\n",
       "<table border=\"1\" class=\"dataframe\">\n",
       "  <thead>\n",
       "    <tr style=\"text-align: right;\">\n",
       "      <th></th>\n",
       "      <th>labels</th>\n",
       "      <th>samples_per_cluster</th>\n",
       "      <th>silhouette_score</th>\n",
       "    </tr>\n",
       "  </thead>\n",
       "  <tbody>\n",
       "    <tr>\n",
       "      <th>cluster_2</th>\n",
       "      <td>[1, 1, 0, 0, 1, 1, 1, 1, 1, 1, 1, 1, 1, 1, 1, ...</td>\n",
       "      <td>{1: 205, 0: 16}</td>\n",
       "      <td>0.962152</td>\n",
       "    </tr>\n",
       "    <tr>\n",
       "      <th>cluster_3</th>\n",
       "      <td>[0, 0, 1, 2, 0, 0, 0, 0, 0, 0, 0, 0, 0, 0, 0, ...</td>\n",
       "      <td>{0: 205, 1: 14, 2: 2}</td>\n",
       "      <td>0.933072</td>\n",
       "    </tr>\n",
       "    <tr>\n",
       "      <th>cluster_4</th>\n",
       "      <td>[3, 3, 0, 2, 3, 3, 3, 3, 3, 3, 3, 3, 3, 3, 3, ...</td>\n",
       "      <td>{3: 199, 0: 14, 1: 6, 2: 2}</td>\n",
       "      <td>0.907603</td>\n",
       "    </tr>\n",
       "    <tr>\n",
       "      <th>cluster_5</th>\n",
       "      <td>[3, 3, 2, 0, 3, 3, 3, 3, 3, 3, 3, 3, 3, 3, 3, ...</td>\n",
       "      <td>{3: 199, 2: 12, 1: 6, 0: 2, 4: 2}</td>\n",
       "      <td>0.905568</td>\n",
       "    </tr>\n",
       "    <tr>\n",
       "      <th>cluster_6</th>\n",
       "      <td>[1, 1, 2, 5, 1, 1, 1, 1, 1, 1, 1, 1, 1, 1, 1, ...</td>\n",
       "      <td>{1: 199, 2: 12, 0: 6, 4: 2, 3: 1, 5: 1}</td>\n",
       "      <td>0.902641</td>\n",
       "    </tr>\n",
       "    <tr>\n",
       "      <th>...</th>\n",
       "      <td>...</td>\n",
       "      <td>...</td>\n",
       "      <td>...</td>\n",
       "    </tr>\n",
       "    <tr>\n",
       "      <th>cluster_95</th>\n",
       "      <td>[52, 8, 49, 47, 51, 40, 76, 40, 17, 40, 53, 61...</td>\n",
       "      <td>{16: 52, 10: 10, 17: 9, 12: 8, 1: 6, 4: 6, 11:...</td>\n",
       "      <td>0.45906</td>\n",
       "    </tr>\n",
       "    <tr>\n",
       "      <th>cluster_96</th>\n",
       "      <td>[52, 8, 49, 95, 51, 40, 76, 40, 17, 40, 53, 61...</td>\n",
       "      <td>{16: 52, 10: 10, 17: 9, 12: 8, 4: 6, 1: 6, 5: ...</td>\n",
       "      <td>0.452432</td>\n",
       "    </tr>\n",
       "    <tr>\n",
       "      <th>cluster_97</th>\n",
       "      <td>[52, 8, 49, 95, 51, 40, 76, 40, 17, 40, 53, 61...</td>\n",
       "      <td>{7: 52, 10: 10, 17: 9, 12: 8, 0: 6, 4: 6, 5: 5...</td>\n",
       "      <td>0.446204</td>\n",
       "    </tr>\n",
       "    <tr>\n",
       "      <th>cluster_98</th>\n",
       "      <td>[52, 8, 49, 95, 51, 40, 76, 40, 17, 40, 53, 61...</td>\n",
       "      <td>{7: 52, 10: 10, 17: 9, 12: 8, 4: 6, 5: 5, 6: 5...</td>\n",
       "      <td>0.442648</td>\n",
       "    </tr>\n",
       "    <tr>\n",
       "      <th>cluster_99</th>\n",
       "      <td>[52, 8, 49, 95, 51, 40, 76, 40, 17, 40, 53, 61...</td>\n",
       "      <td>{7: 52, 10: 10, 17: 9, 5: 8, 4: 6, 2: 5, 6: 5,...</td>\n",
       "      <td>0.435124</td>\n",
       "    </tr>\n",
       "  </tbody>\n",
       "</table>\n",
       "<p>98 rows × 3 columns</p>\n",
       "</div>"
      ],
      "text/plain": [
       "                                                       labels  \\\n",
       "cluster_2   [1, 1, 0, 0, 1, 1, 1, 1, 1, 1, 1, 1, 1, 1, 1, ...   \n",
       "cluster_3   [0, 0, 1, 2, 0, 0, 0, 0, 0, 0, 0, 0, 0, 0, 0, ...   \n",
       "cluster_4   [3, 3, 0, 2, 3, 3, 3, 3, 3, 3, 3, 3, 3, 3, 3, ...   \n",
       "cluster_5   [3, 3, 2, 0, 3, 3, 3, 3, 3, 3, 3, 3, 3, 3, 3, ...   \n",
       "cluster_6   [1, 1, 2, 5, 1, 1, 1, 1, 1, 1, 1, 1, 1, 1, 1, ...   \n",
       "...                                                       ...   \n",
       "cluster_95  [52, 8, 49, 47, 51, 40, 76, 40, 17, 40, 53, 61...   \n",
       "cluster_96  [52, 8, 49, 95, 51, 40, 76, 40, 17, 40, 53, 61...   \n",
       "cluster_97  [52, 8, 49, 95, 51, 40, 76, 40, 17, 40, 53, 61...   \n",
       "cluster_98  [52, 8, 49, 95, 51, 40, 76, 40, 17, 40, 53, 61...   \n",
       "cluster_99  [52, 8, 49, 95, 51, 40, 76, 40, 17, 40, 53, 61...   \n",
       "\n",
       "                                          samples_per_cluster silhouette_score  \n",
       "cluster_2                                     {1: 205, 0: 16}         0.962152  \n",
       "cluster_3                               {0: 205, 1: 14, 2: 2}         0.933072  \n",
       "cluster_4                         {3: 199, 0: 14, 1: 6, 2: 2}         0.907603  \n",
       "cluster_5                   {3: 199, 2: 12, 1: 6, 0: 2, 4: 2}         0.905568  \n",
       "cluster_6             {1: 199, 2: 12, 0: 6, 4: 2, 3: 1, 5: 1}         0.902641  \n",
       "...                                                       ...              ...  \n",
       "cluster_95  {16: 52, 10: 10, 17: 9, 12: 8, 1: 6, 4: 6, 11:...          0.45906  \n",
       "cluster_96  {16: 52, 10: 10, 17: 9, 12: 8, 4: 6, 1: 6, 5: ...         0.452432  \n",
       "cluster_97  {7: 52, 10: 10, 17: 9, 12: 8, 0: 6, 4: 6, 5: 5...         0.446204  \n",
       "cluster_98  {7: 52, 10: 10, 17: 9, 12: 8, 4: 6, 5: 5, 6: 5...         0.442648  \n",
       "cluster_99  {7: 52, 10: 10, 17: 9, 5: 8, 4: 6, 2: 5, 6: 5,...         0.435124  \n",
       "\n",
       "[98 rows x 3 columns]"
      ]
     },
     "execution_count": 13,
     "metadata": {},
     "output_type": "execute_result"
    }
   ],
   "source": [
    "clustering_results_df"
   ]
  },
  {
   "cell_type": "code",
   "execution_count": 14,
   "id": "59157a36-c432-47c6-8548-e964a6b502f6",
   "metadata": {},
   "outputs": [],
   "source": [
    "selected_cluster_counts = [12]\n",
    "metric='cosine'\n",
    "for cluster_count in selected_cluster_counts:\n",
    "    agglomerative = AgglomerativeClustering(n_clusters=cluster_count,affinity =metric ,linkage='complete')\n",
    "    labels=agglomerative.fit(ela).labels_\n",
    "    ela_copy=ela.copy()\n",
    "    ela_copy[f'clustering_{cluster_count}_clusters']=labels\n",
    "    if save_clusters:\n",
    "        ela_copy.to_csv(f'data/hierarchical_clustering_{cluster_count}.csv')"
   ]
  },
  {
   "cell_type": "markdown",
   "id": "9830af1b-7e61-493c-97ef-702f34ff9f81",
   "metadata": {},
   "source": [
    "SUBCLUSTERING"
   ]
  },
  {
   "cell_type": "code",
   "execution_count": 15,
   "id": "77b159d9-9468-44dd-8b17-e5bc56989423",
   "metadata": {},
   "outputs": [
    {
     "name": "stdout",
     "output_type": "stream",
     "text": [
      "0\n",
      "12\n"
     ]
    }
   ],
   "source": [
    "cluster_12_df = pd.read_csv('data/hierarchical_clustering_12.csv',index_col=[0,1,2])\n",
    "cluster_label_column='clustering_12_clusters'\n",
    "cluster_sizes=pd.DataFrame(cluster_12_df[cluster_label_column]).value_counts()\n",
    "max_cluster_size=cluster_sizes.max()\n",
    "largest_cluster_id = cluster_sizes[cluster_sizes==max_cluster_size].index[0][0]\n",
    "print(largest_cluster_id)\n",
    "ela=cluster_12_df[cluster_12_df[cluster_label_column]==largest_cluster_id]\n",
    "ela=ela[set(ela_feature_names).intersection(ela.columns)]\n",
    "removed_instances=cluster_12_df[cluster_12_df[cluster_label_column]!=largest_cluster_id]\n",
    "initial_cluster_count=cluster_sizes.shape[0]\n",
    "\n",
    "print(initial_cluster_count)"
   ]
  },
  {
   "cell_type": "code",
   "execution_count": 16,
   "id": "021e4f6a-1e26-4ab5-921e-c9cb0f869c88",
   "metadata": {},
   "outputs": [],
   "source": [
    "clustering_results={}\n",
    "df=ela\n",
    "for cluster_count in range(2, 60):\n",
    "    clustering_results[f'cluster_{cluster_count}']=evaluate_clustering(df,cluster_count)\n",
    "clustering_results_df=pd.DataFrame(clustering_results).T"
   ]
  },
  {
   "cell_type": "code",
   "execution_count": 17,
   "id": "ec3364c9-5e0a-41ee-a984-dc9654c99374",
   "metadata": {},
   "outputs": [
    {
     "name": "stderr",
     "output_type": "stream",
     "text": [
      "/tmp/ipykernel_20924/686659388.py:9: SettingWithCopyWarning: \n",
      "A value is trying to be set on a copy of a slice from a DataFrame.\n",
      "Try using .loc[row_indexer,col_indexer] = value instead\n",
      "\n",
      "See the caveats in the documentation: https://pandas.pydata.org/pandas-docs/stable/user_guide/indexing.html#returning-a-view-versus-a-copy\n",
      "  removed_instances[f'subclustering_{cluster_count}_clusters']=removed_instances[cluster_label_column]\n",
      "/tmp/ipykernel_20924/686659388.py:9: SettingWithCopyWarning: \n",
      "A value is trying to be set on a copy of a slice from a DataFrame.\n",
      "Try using .loc[row_indexer,col_indexer] = value instead\n",
      "\n",
      "See the caveats in the documentation: https://pandas.pydata.org/pandas-docs/stable/user_guide/indexing.html#returning-a-view-versus-a-copy\n",
      "  removed_instances[f'subclustering_{cluster_count}_clusters']=removed_instances[cluster_label_column]\n"
     ]
    }
   ],
   "source": [
    "selected_cluster_counts = [10,15]\n",
    "\n",
    "metric='cosine'\n",
    "for cluster_count in selected_cluster_counts:\n",
    "    agglomerative = AgglomerativeClustering(n_clusters=cluster_count,affinity =metric ,linkage='complete')\n",
    "    labels=agglomerative.fit(ela).labels_\n",
    "    elements_per_cluster = pd.DataFrame(labels).value_counts()\n",
    "    ela[f'subclustering_{cluster_count}_clusters']=[initial_cluster_count + l for l in labels]\n",
    "    removed_instances[f'subclustering_{cluster_count}_clusters']=removed_instances[cluster_label_column]\n",
    "    \n",
    "all_instances=ela.append(removed_instances)\n",
    "if save_clusters:\n",
    "    all_instances.to_csv('data/subclustering.csv')"
   ]
  }
 ],
 "metadata": {
  "kernelspec": {
   "display_name": "Python 3 (ipykernel)",
   "language": "python",
   "name": "python3"
  },
  "language_info": {
   "codemirror_mode": {
    "name": "ipython",
    "version": 3
   },
   "file_extension": ".py",
   "mimetype": "text/x-python",
   "name": "python",
   "nbconvert_exporter": "python",
   "pygments_lexer": "ipython3",
   "version": "3.9.7"
  }
 },
 "nbformat": 4,
 "nbformat_minor": 5
}
