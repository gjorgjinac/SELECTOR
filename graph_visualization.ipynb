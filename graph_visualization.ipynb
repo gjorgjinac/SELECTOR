{
 "cells": [
  {
   "cell_type": "code",
   "execution_count": 161,
   "id": "ffd53bfe-8b2c-4250-9c17-3045325951a5",
   "metadata": {},
   "outputs": [],
   "source": [
    "import networkx as nx\n",
    "from dom_mis import generate_graph_from_similarity_matrix\n",
    "import pandas as pd\n",
    "from pyvis.network import Network\n",
    "import os\n",
    "import numpy as np\n",
    "import seaborn as sns\n",
    "import matplotlib.pyplot as plt"
   ]
  },
  {
   "cell_type": "code",
   "execution_count": 83,
   "id": "b19c25c7-1852-47e5-9c83-7ac6f611122a",
   "metadata": {},
   "outputs": [],
   "source": [
    "colors = {\n",
    " 'BBOB':'green',\n",
    "    'CEC2013':'red',\n",
    "    'CEC2014':'blue',\n",
    "    'CEC2015':'purple',\n",
    "    'CEC2017': 'pink'\n",
    "}"
   ]
  },
  {
   "cell_type": "code",
   "execution_count": 84,
   "id": "37ac8590-b582-4e42-85e6-1eb9ec001ce8",
   "metadata": {},
   "outputs": [],
   "source": [
    "def transform_node_label(node_as_tuple):\n",
    "    return '_'.join([str(y).upper() for y in node_as_tuple])"
   ]
  },
  {
   "cell_type": "code",
   "execution_count": 85,
   "id": "88617f2e-484e-48e2-b596-5910c40511e1",
   "metadata": {},
   "outputs": [],
   "source": [
    "def plot_graph(similarity_threshold):\n",
    "    G = generate_graph_from_similarity_matrix(similarity_threshold)\n",
    "    \n",
    "    graph_to_plot = nx.relabel_nodes(G,transform_node_label)\n",
    "    save_file = f'{similarity_threshold}.html'\n",
    "    title = f''\n",
    "    nt = Network(\"800px\", \"100%\")\n",
    "    for n in graph_to_plot.nodes():\n",
    "        nt.add_node(n, color=colors[n.split('_')[0]])\n",
    "\n",
    "    for e in graph_to_plot.edges():\n",
    "        nt.add_edge(e[0],e[1],color='grey')\n",
    "    nt.heading = title\n",
    "    nt.show_buttons(filter_=['physics', 'nodes', 'edges', 'selection', 'layout'])\n",
    "    nt.show(f'graph_visualizations/{save_file}')"
   ]
  },
  {
   "cell_type": "code",
   "execution_count": 86,
   "id": "bf28f329-3eec-4572-a919-8c93c096b036",
   "metadata": {},
   "outputs": [],
   "source": [
    "def plot_graph_algorithm_results(similarity_threshold):\n",
    "    G = generate_graph_from_similarity_matrix(similarity_threshold)\n",
    "    dominant_results, mis_results = [pd.read_csv(os.path.join('results','dropna',alg,f'{similarity_threshold}_{0}.csv'), index_col=[0]) for alg in ['dominant','mis']]\n",
    "    dominant_results = [transform_node_label(x) for x in dominant_results.values]\n",
    "    print(dominant_results)\n",
    "    mis_results = [transform_node_label(x) for x in mis_results.values]\n",
    "    \n",
    "    for algorithm, algorithm_results in [('dominant', dominant_results),('mis',mis_results)]:\n",
    "        graph_to_plot = nx.relabel_nodes(G,transform_node_label)\n",
    "        save_file = f'{algorithm}_{similarity_threshold}.html'\n",
    "        title = f''\n",
    "        nt = Network(\"800px\", \"100%\")\n",
    "        for n in graph_to_plot.nodes():\n",
    "            is_node_selected = n in algorithm_results\n",
    "            nt.add_node(n, \n",
    "                        color='red' if is_node_selected else 'black', \n",
    "                        size=40 if is_node_selected else 20 )\n",
    "\n",
    "        for e in graph_to_plot.edges():\n",
    "            nt.add_edge(e[0],e[1],color='grey')\n",
    "        nt.heading = title\n",
    "        nt.show_buttons(filter_=['physics','nodes', 'edges', 'selection', 'layout'])\n",
    "        nt.show(f'graph_visualizations/{save_file}')"
   ]
  },
  {
   "cell_type": "code",
   "execution_count": 93,
   "id": "38dc502d-d5fe-43e4-93ff-b9c1189d0712",
   "metadata": {},
   "outputs": [],
   "source": [
    "default_edge_color='grey'\n",
    "default_node_color='lightskyblue'"
   ]
  },
  {
   "cell_type": "code",
   "execution_count": 149,
   "id": "607fb628-bdef-4e19-b457-0a907fa1a98b",
   "metadata": {},
   "outputs": [],
   "source": [
    "def plot_graph_algorithm_results_from_both_algorithms(similarity_threshold):\n",
    "    #G = generate_graph_from_similarity_matrix(similarity_threshold)\n",
    "    graph_file_name=f'graphs/graph_{similarity_threshold}_dropna_adj'\n",
    "    G = nx.read_adjlist(graph_file_name)\n",
    "    \n",
    "    for algorithm_run in range(0,4):\n",
    "        dominant_results, mis_results = [pd.read_csv(os.path.join('results','dropna',alg,f'{similarity_threshold}_{algorithm_run}.csv'), index_col=[0]) for alg in ['dominant','mis']]\n",
    "        dominant_results = [transform_node_label(x) for x in dominant_results.values]\n",
    "        print(dominant_results)\n",
    "        mis_results = [transform_node_label(x) for x in mis_results.values]\n",
    "\n",
    "        graph_to_plot = G\n",
    "        save_file = f'both_{similarity_threshold}_{algorithm_run}.html'\n",
    "        title = f''\n",
    "        nt = Network(\"800px\", \"100%\")\n",
    "        for n in graph_to_plot.nodes():\n",
    "            color = default_node_color\n",
    "            if n in dominant_results:\n",
    "                color = 'tomato'\n",
    "            if n in mis_results:\n",
    "                color = 'limegreen'\n",
    "            if n in dominant_results and n in mis_results:\n",
    "                color = 'mediumorchid'\n",
    "            nt.add_node(n, \n",
    "                        color=color, \n",
    "                        size=40 if color!=default_node_color else 20 )\n",
    "\n",
    "        for e in graph_to_plot.edges():\n",
    "            nt.add_edge(e[0],e[1],color=default_edge_color)\n",
    "        nt.heading = title\n",
    "        nt.repulsion(node_distance=100, central_gravity=0.2, spring_length=200, spring_strength=0.05, damping=0.09)\n",
    "        nt.show_buttons(filter_=['physics','nodes', 'edges', 'selection', 'layout'])\n",
    "        nt.show(f'graph_visualizations/{save_file}')"
   ]
  },
  {
   "cell_type": "code",
   "execution_count": 150,
   "id": "2c118f7e-9944-4572-9292-4d3c98c18de6",
   "metadata": {},
   "outputs": [
    {
     "name": "stdout",
     "output_type": "stream",
     "text": [
      "['BBOB_17_5', 'BBOB_8_2', 'BBOB_23_2', 'BBOB_23_5', 'BBOB_21_2', 'BBOB_1_5', 'BBOB_3_2', 'BBOB_14_2', 'CEC2013_12_1', 'BBOB_19_4', 'BBOB_17_4', 'BBOB_19_1', 'BBOB_18_5', 'BBOB_22_3', 'BBOB_23_4', 'BBOB_23_1', 'BBOB_21_4', 'BBOB_1_4', 'BBOB_14_1', 'BBOB_1_3', 'BBOB_17_2']\n",
      "['CEC2013_19_1', 'BBOB_18_5', 'BBOB_23_4', 'CEC2015_4_1', 'BBOB_1_1', 'BBOB_23_1', 'BBOB_1_4', 'BBOB_14_1', 'BBOB_2_5', 'BBOB_1_3', 'CEC2014_28_1', 'BBOB_17_2', 'BBOB_17_5', 'BBOB_23_2', 'BBOB_23_5', 'BBOB_14_2', 'BBOB_19_4', 'BBOB_17_4', 'BBOB_19_1', 'BBOB_21_4', 'BBOB_22_3']\n",
      "['BBOB_1_1', 'CEC2014_30_1', 'BBOB_1_4', 'BBOB_3_1', 'BBOB_16_4', 'BBOB_23_3', 'CEC2015_4_1', 'BBOB_1_3', 'BBOB_12_3', 'BBOB_17_2', 'BBOB_17_5', 'BBOB_23_5', 'BBOB_23_2', 'BBOB_14_2', 'BBOB_22_3', 'BBOB_17_1', 'BBOB_16_5', 'BBOB_17_4', 'BBOB_19_1', 'BBOB_18_5', 'BBOB_19_4', 'CEC2014_28_1', 'BBOB_21_4']\n",
      "['CEC2015_4_1', 'BBOB_3_1', 'CEC2014_4_1', 'CEC2013_9_1', 'BBOB_18_2', 'BBOB_18_5', 'BBOB_1_1', 'BBOB_23_1', 'BBOB_1_4', 'CEC2014_28_1', 'BBOB_12_3', 'BBOB_17_5', 'BBOB_17_2', 'BBOB_1_3', 'BBOB_23_3', 'BBOB_22_3', 'BBOB_23_2', 'BBOB_23_5', 'BBOB_14_2', 'BBOB_19_1', 'BBOB_19_4', 'BBOB_21_4']\n"
     ]
    }
   ],
   "source": [
    "for similarity_threshold in [0.97]:\n",
    "    plot_graph_algorithm_results_from_both_algorithms(similarity_threshold)"
   ]
  },
  {
   "cell_type": "code",
   "execution_count": null,
   "id": "f4b2f9d7-b3f6-49c4-acc4-b01588d20732",
   "metadata": {},
   "outputs": [],
   "source": [
    "for similarity_threshold in [0.9,0.95,0.97]:\n",
    "    plot_graph(similarity_threshold)\n",
    "    plot_graph_algorithm_results(similarity_threshold)"
   ]
  },
  {
   "cell_type": "code",
   "execution_count": 98,
   "id": "5fbc7129-325f-40cb-ac15-88fbd4c195d3",
   "metadata": {},
   "outputs": [],
   "source": [
    "def analyze_connectivity(similarity_threshold):\n",
    "    G = generate_graph_from_similarity_matrix(similarity_threshold)\n",
    "    print(f'similarity: {similarity_threshold}')\n",
    "    print(f'number of connected components: {nx.number_connected_components(G)}')\n",
    "    for comp in nx.connected_components(G):\n",
    "        print(len(comp))"
   ]
  },
  {
   "cell_type": "code",
   "execution_count": 99,
   "id": "8f539da6-ec17-40a5-aaaa-d3fbc9ada815",
   "metadata": {},
   "outputs": [
    {
     "name": "stdout",
     "output_type": "stream",
     "text": [
      "similarity: 0.9\n",
      "number of connected components: 9\n",
      "201\n",
      "11\n",
      "1\n",
      "1\n",
      "3\n",
      "1\n",
      "1\n",
      "1\n",
      "1\n"
     ]
    }
   ],
   "source": [
    "analyze_connectivity(0.9)"
   ]
  },
  {
   "cell_type": "code",
   "execution_count": null,
   "id": "cf1447b0-08e7-4862-b300-366d96dfc0a8",
   "metadata": {},
   "outputs": [],
   "source": [
    "sorted(G.degree, key=lambda x: x[1])[0:20]"
   ]
  },
  {
   "cell_type": "code",
   "execution_count": 135,
   "id": "93971836-4ddc-4db3-9af8-bf1d24a7466c",
   "metadata": {},
   "outputs": [],
   "source": [
    "g=nx.read_adjlist('data/graph_0.5_adj',nodetype=tuple,delimiter=' ')"
   ]
  },
  {
   "cell_type": "code",
   "execution_count": 136,
   "id": "b89ec6df-3792-478f-99b7-545e1e7bc0f1",
   "metadata": {},
   "outputs": [
    {
     "data": {
      "text/plain": [
       "40"
      ]
     },
     "execution_count": 136,
     "metadata": {},
     "output_type": "execute_result"
    }
   ],
   "source": [
    "len(g.nodes)"
   ]
  },
  {
   "cell_type": "code",
   "execution_count": 137,
   "id": "c5604a8f-e1a7-42a5-9e49-492c81e4170f",
   "metadata": {},
   "outputs": [
    {
     "data": {
      "text/plain": [
       "('(', \"'\", 'b', 'b', 'o', 'b', \"'\", ',')"
      ]
     },
     "execution_count": 137,
     "metadata": {},
     "output_type": "execute_result"
    }
   ],
   "source": [
    "list(g.nodes)[0]"
   ]
  },
  {
   "cell_type": "code",
   "execution_count": null,
   "id": "ebb08429-6e3b-4b76-9c78-663fd684a2c5",
   "metadata": {},
   "outputs": [],
   "source": []
  },
  {
   "cell_type": "code",
   "execution_count": 142,
   "id": "67d749d5-8be8-4166-be9f-7e8b83d82414",
   "metadata": {},
   "outputs": [],
   "source": [
    "from networkx import write_adjlist\n",
    "for na_handling_setting_name in ['dropna']:\n",
    "    for min_similarity_threshold in [0.5,0.7,0.9,0.95,0.97]:\n",
    "        graph_file_name=f'graphs/graph_{min_similarity_threshold}_{na_handling_setting_name}_adj'\n",
    "        g=generate_graph_from_similarity_matrix(min_similarity_threshold, na_handling_setting_name)\n",
    "        if not os.path.isfile(graph_file_name):\n",
    "            write_adjlist(nx.relabel_nodes(g,transform_node_label),graph_file_name)"
   ]
  },
  {
   "cell_type": "code",
   "execution_count": 243,
   "id": "eba939b4-28f5-4a8c-8f57-6f477f239f38",
   "metadata": {},
   "outputs": [
    {
     "name": "stdout",
     "output_type": "stream",
     "text": [
      "[204, 203, 14, 6, 203, 203, 203, 203, 203, 203, 203, 204, 203, 203, 203, 203, 203, 203, 203, 203, 203, 203, 203, 203, 203, 203, 203, 203, 203, 203, 203, 203, 203, 203, 203, 203, 203, 203, 203, 203, 203, 203, 203, 203, 203, 203, 203, 203, 203, 203, 203, 203, 203, 203, 203, 203, 203, 203, 203, 203, 203, 203, 203, 203, 203, 204, 205, 203, 204, 204, 203, 203, 203, 203, 203, 203, 12, 203, 12, 205, 204, 205, 203, 205, 13, 203, 203, 203, 203, 5, 14, 204, 203, 10, 12, 203, 203, 203, 203, 203, 204, 205, 12, 204, 203, 12, 203, 205, 203, 203, 205, 18, 13, 12, 14, 203, 203, 203, 203, 203, 203, 203, 203, 203, 203, 203, 203, 12, 12, 203, 203, 203, 203, 203, 203, 203, 203, 203, 203, 203, 203, 203, 203, 203, 203, 203, 203, 203, 203, 203, 203, 203, 203, 203, 203, 203, 203, 203, 203, 203, 203, 203, 203, 203, 203, 203, 203, 203, 203, 203, 203, 203, 203, 203, 203, 203, 203, 203, 203, 203, 203, 203, 203, 203, 203, 203, 203, 203, 203, 203, 203, 203, 203, 203, 203, 203, 203, 203, 203, 203, 203, 203, 203, 203, 203, 203, 203, 203, 203, 203, 203, 203, 203, 203, 203, 203, 203, 203, 203, 203, 203]\n",
      "0.5: 188.40723981900453\n"
     ]
    },
    {
     "data": {
      "image/png": "[encoded data removed]",
      "text/plain": [
       "<Figure size 432x288 with 1 Axes>"
      ]
     },
     "metadata": {
      "needs_background": "light"
     },
     "output_type": "display_data"
    },
    {
     "name": "stdout",
     "output_type": "stream",
     "text": [
      "[203, 199, 13, 2, 203, 200, 200, 200, 199, 200, 203, 203, 201, 202, 200, 202, 201, 203, 202, 202, 200, 199, 200, 199, 202, 199, 199, 199, 199, 199, 200, 199, 199, 200, 200, 199, 199, 199, 199, 199, 199, 199, 199, 199, 199, 199, 199, 199, 200, 199, 199, 199, 200, 200, 199, 200, 200, 199, 200, 200, 199, 199, 199, 199, 199, 203, 43, 202, 203, 203, 199, 201, 200, 200, 200, 202, 12, 202, 12, 35, 203, 64, 200, 203, 12, 201, 203, 200, 201, 1, 13, 203, 201, 1, 11, 199, 199, 199, 199, 199, 203, 203, 12, 203, 200, 11, 200, 202, 200, 203, 24, 3, 12, 12, 9, 199, 199, 199, 199, 199, 199, 199, 199, 199, 199, 199, 199, 12, 12, 199, 201, 200, 200, 199, 199, 201, 199, 199, 199, 199, 199, 199, 199, 199, 199, 200, 199, 199, 199, 199, 199, 200, 200, 199, 199, 199, 199, 199, 199, 200, 199, 199, 199, 199, 199, 201, 199, 199, 199, 199, 199, 199, 199, 199, 200, 199, 199, 199, 199, 201, 200, 199, 199, 201, 199, 199, 199, 199, 199, 199, 199, 199, 199, 199, 199, 200, 199, 199, 199, 199, 199, 199, 199, 199, 199, 199, 199, 199, 199, 199, 200, 199, 199, 199, 199, 199, 199, 199, 199, 199, 199]\n",
      "0.7: 182.23529411764707\n"
     ]
    },
    {
     "data": {
      "image/png": "[encoded data removed]",
      "text/plain": [
       "<Figure size 432x288 with 1 Axes>"
      ]
     },
     "metadata": {
      "needs_background": "light"
     },
     "output_type": "display_data"
    },
    {
     "name": "stdout",
     "output_type": "stream",
     "text": [
      "[198, 196, 10, 0, 198, 194, 195, 194, 196, 194, 198, 197, 197, 198, 196, 196, 196, 198, 196, 196, 197, 196, 196, 196, 196, 196, 196, 196, 196, 196, 196, 196, 196, 196, 196, 196, 196, 196, 196, 196, 196, 196, 196, 196, 196, 196, 196, 196, 196, 196, 196, 196, 196, 196, 196, 195, 195, 192, 193, 195, 196, 196, 196, 196, 196, 196, 0, 198, 196, 198, 196, 198, 196, 198, 198, 198, 9, 198, 9, 2, 198, 3, 198, 38, 0, 197, 198, 197, 198, 0, 2, 189, 198, 0, 9, 196, 196, 196, 196, 196, 197, 39, 9, 194, 196, 9, 196, 4, 198, 198, 2, 2, 10, 9, 0, 196, 196, 196, 196, 196, 196, 196, 196, 196, 196, 196, 196, 9, 9, 196, 198, 197, 197, 196, 196, 197, 196, 196, 196, 196, 196, 196, 196, 196, 196, 197, 196, 196, 196, 196, 196, 197, 197, 196, 196, 196, 196, 196, 196, 198, 196, 196, 196, 196, 196, 196, 196, 196, 196, 196, 196, 196, 196, 196, 195, 196, 196, 196, 196, 198, 198, 196, 196, 198, 196, 196, 196, 196, 196, 196, 196, 196, 196, 196, 196, 197, 196, 196, 196, 196, 196, 196, 196, 196, 196, 196, 196, 196, 196, 196, 196, 196, 196, 196, 196, 196, 196, 196, 196, 196, 196]\n",
      "0.9: 175.70135746606334\n"
     ]
    },
    {
     "data": {
      "image/png": "[encoded data removed]",
      "text/plain": [
       "<Figure size 432x288 with 1 Axes>"
      ]
     },
     "metadata": {
      "needs_background": "light"
     },
     "output_type": "display_data"
    },
    {
     "name": "stdout",
     "output_type": "stream",
     "text": [
      "[40, 188, 2, 0, 192, 178, 183, 179, 188, 178, 193, 60, 192, 192, 191, 185, 186, 194, 179, 176, 192, 188, 190, 188, 189, 188, 188, 187, 187, 188, 190, 189, 188, 189, 189, 188, 188, 188, 188, 188, 187, 187, 187, 187, 187, 188, 188, 188, 188, 187, 187, 187, 185, 186, 187, 183, 184, 110, 169, 182, 188, 188, 188, 188, 188, 19, 0, 196, 18, 180, 188, 192, 188, 191, 192, 191, 8, 191, 8, 1, 23, 1, 191, 9, 0, 190, 187, 190, 193, 0, 1, 15, 192, 0, 8, 188, 188, 188, 188, 188, 42, 9, 8, 24, 189, 8, 188, 2, 190, 182, 1, 0, 9, 8, 0, 188, 188, 188, 188, 188, 187, 188, 188, 187, 188, 187, 188, 8, 8, 187, 141, 176, 179, 187, 187, 189, 183, 184, 188, 188, 187, 187, 187, 187, 188, 185, 188, 188, 187, 186, 187, 189, 189, 187, 183, 184, 187, 187, 187, 188, 187, 188, 187, 187, 187, 189, 188, 188, 188, 187, 187, 187, 187, 187, 166, 188, 188, 188, 187, 190, 174, 187, 188, 189, 188, 187, 188, 187, 187, 188, 188, 188, 187, 187, 187, 183, 180, 185, 183, 187, 187, 188, 187, 188, 188, 188, 188, 188, 188, 188, 189, 187, 187, 187, 187, 187, 187, 187, 187, 188, 187]\n",
      "0.95: 160.93212669683257\n"
     ]
    },
    {
     "data": {
      "image/png": "[encoded data removed]",
      "text/plain": [
       "<Figure size 432x288 with 1 Axes>"
      ]
     },
     "metadata": {
      "needs_background": "light"
     },
     "output_type": "display_data"
    },
    {
     "name": "stdout",
     "output_type": "stream",
     "text": [
      "[10, 174, 1, 0, 172, 66, 157, 71, 181, 68, 83, 19, 182, 181, 183, 65, 106, 175, 62, 55, 182, 173, 179, 173, 172, 181, 182, 181, 182, 181, 183, 183, 181, 182, 183, 180, 181, 182, 181, 182, 177, 177, 177, 177, 177, 179, 179, 181, 179, 178, 181, 177, 171, 175, 178, 143, 166, 45, 52, 90, 178, 180, 177, 174, 175, 5, 0, 187, 6, 42, 179, 187, 176, 186, 185, 167, 8, 168, 8, 1, 3, 0, 175, 3, 0, 184, 21, 181, 182, 0, 1, 6, 175, 0, 7, 181, 181, 181, 181, 181, 13, 5, 8, 5, 173, 7, 173, 0, 173, 33, 1, 0, 6, 8, 0, 173, 173, 173, 172, 175, 171, 171, 174, 171, 172, 172, 174, 8, 8, 172, 16, 146, 159, 172, 172, 170, 168, 169, 171, 175, 171, 171, 171, 171, 171, 169, 173, 171, 171, 171, 171, 173, 173, 170, 168, 169, 171, 172, 171, 169, 170, 173, 171, 171, 171, 171, 171, 173, 173, 172, 171, 171, 171, 172, 10, 171, 172, 171, 171, 173, 73, 172, 173, 176, 173, 171, 171, 172, 170, 173, 173, 173, 171, 171, 172, 164, 165, 170, 168, 172, 171, 173, 171, 171, 173, 171, 173, 173, 171, 173, 173, 171, 171, 172, 172, 172, 172, 172, 172, 173, 171]\n",
      "0.97: 140.30769230769232\n"
     ]
    },
    {
     "data": {
      "image/png": "[encoded data removed]",
      "text/plain": [
       "<Figure size 432x288 with 1 Axes>"
      ]
     },
     "metadata": {
      "needs_background": "light"
     },
     "output_type": "display_data"
    }
   ],
   "source": [
    "all_node_degrees_df=pd.DataFrame()\n",
    "for threshold_index, min_similarity_threshold in enumerate([0.5,0.7,0.9,0.95,0.97]):\n",
    "    g=generate_graph_from_similarity_matrix(min_similarity_threshold, na_handling_setting_name)\n",
    "    node_degrees=[x[1] for x in g.degree]\n",
    "    print(node_degrees)\n",
    "    node_degrees_per_threshold_df=pd.DataFrame(node_degrees, columns=['node degree'])\n",
    "    node_degrees_per_threshold_df['similarity threshold']=min_similarity_threshold\n",
    "    all_node_degrees_df=all_node_degrees_df.append(node_degrees_per_threshold_df)\n",
    "    sns.histplot(node_degrees)\n",
    "    mean_degree=np.array(node_degrees).mean()\n",
    "    print(f'{min_similarity_threshold}: {mean_degree}')\n",
    "    plt.show()\n",
    "    \n",
    "all_node_degrees_df=all_node_degrees_df.reset_index(drop=True)"
   ]
  },
  {
   "cell_type": "code",
   "execution_count": 248,
   "id": "b3a565f3-86e3-4dd8-a004-1b3e25e40c33",
   "metadata": {},
   "outputs": [
    {
     "data": {
      "text/html": [
       "<div>\n",
       "<style scoped>\n",
       "    .dataframe tbody tr th:only-of-type {\n",
       "        vertical-align: middle;\n",
       "    }\n",
       "\n",
       "    .dataframe tbody tr th {\n",
       "        vertical-align: top;\n",
       "    }\n",
       "\n",
       "    .dataframe thead th {\n",
       "        text-align: right;\n",
       "    }\n",
       "</style>\n",
       "<table border=\"1\" class=\"dataframe\">\n",
       "  <thead>\n",
       "    <tr style=\"text-align: right;\">\n",
       "      <th></th>\n",
       "      <th>node degree</th>\n",
       "      <th>similarity threshold</th>\n",
       "    </tr>\n",
       "  </thead>\n",
       "  <tbody>\n",
       "    <tr>\n",
       "      <th>0</th>\n",
       "      <td>204</td>\n",
       "      <td>0.5</td>\n",
       "    </tr>\n",
       "    <tr>\n",
       "      <th>1</th>\n",
       "      <td>203</td>\n",
       "      <td>0.5</td>\n",
       "    </tr>\n",
       "    <tr>\n",
       "      <th>2</th>\n",
       "      <td>14</td>\n",
       "      <td>0.5</td>\n",
       "    </tr>\n",
       "    <tr>\n",
       "      <th>3</th>\n",
       "      <td>6</td>\n",
       "      <td>0.5</td>\n",
       "    </tr>\n",
       "    <tr>\n",
       "      <th>4</th>\n",
       "      <td>203</td>\n",
       "      <td>0.5</td>\n",
       "    </tr>\n",
       "  </tbody>\n",
       "</table>\n",
       "</div>"
      ],
      "text/plain": [
       "   node degree  similarity threshold\n",
       "0          204                   0.5\n",
       "1          203                   0.5\n",
       "2           14                   0.5\n",
       "3            6                   0.5\n",
       "4          203                   0.5"
      ]
     },
     "execution_count": 248,
     "metadata": {},
     "output_type": "execute_result"
    }
   ],
   "source": [
    "all_node_degrees_df.head()"
   ]
  },
  {
   "cell_type": "code",
   "execution_count": null,
   "id": "b304fd8e-93d0-4d74-8bb9-e0f493fc2461",
   "metadata": {},
   "outputs": [],
   "source": [
    "sns.displot(all_node_degrees_df, x=\"node degree\", hue=\"similarity threshold\",palette=sns.color_palette(\"tab10\")[0:5])\n",
    "plt.savefig('graph_visualizations/node_degrees.pdf')"
   ]
  },
  {
   "cell_type": "code",
   "execution_count": null,
   "id": "a1fa437a-5ee3-4678-8bcb-d76b7f8b42c0",
   "metadata": {},
   "outputs": [],
   "source": []
  }
 ],
 "metadata": {
  "kernelspec": {
   "display_name": "Python 3 (ipykernel)",
   "language": "python",
   "name": "python3"
  },
  "language_info": {
   "codemirror_mode": {
    "name": "ipython",
    "version": 3
   },
   "file_extension": ".py",
   "mimetype": "text/x-python",
   "name": "python",
   "nbconvert_exporter": "python",
   "pygments_lexer": "ipython3",
   "version": "3.9.7"
  }
 },
 "nbformat": 4,
 "nbformat_minor": 5
}
