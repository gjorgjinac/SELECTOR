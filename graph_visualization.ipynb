{
 "cells": [
  {
   "cell_type": "code",
   "execution_count": 161,
   "id": "ffd53bfe-8b2c-4250-9c17-3045325951a5",
   "metadata": {},
   "outputs": [],
   "source": [
    "import networkx as nx\n",
    "from dom_mis import generate_graph_from_similarity_matrix\n",
    "import pandas as pd\n",
    "from pyvis.network import Network\n",
    "import os\n",
    "import numpy as np\n",
    "import seaborn as sns\n",
    "import matplotlib.pyplot as plt"
   ]
  },
  {
   "cell_type": "code",
   "execution_count": 83,
   "id": "b19c25c7-1852-47e5-9c83-7ac6f611122a",
   "metadata": {},
   "outputs": [],
   "source": [
    "colors = {\n",
    " 'BBOB':'green',\n",
    "    'CEC2013':'red',\n",
    "    'CEC2014':'blue',\n",
    "    'CEC2015':'purple',\n",
    "    'CEC2017': 'pink'\n",
    "}"
   ]
  },
  {
   "cell_type": "code",
   "execution_count": 84,
   "id": "37ac8590-b582-4e42-85e6-1eb9ec001ce8",
   "metadata": {},
   "outputs": [],
   "source": [
    "def transform_node_label(node_as_tuple):\n",
    "    return '_'.join([str(y).upper() for y in node_as_tuple])"
   ]
  },
  {
   "cell_type": "code",
   "execution_count": 85,
   "id": "88617f2e-484e-48e2-b596-5910c40511e1",
   "metadata": {},
   "outputs": [],
   "source": [
    "def plot_graph(similarity_threshold):\n",
    "    G = generate_graph_from_similarity_matrix(similarity_threshold)\n",
    "    \n",
    "    graph_to_plot = nx.relabel_nodes(G,transform_node_label)\n",
    "    save_file = f'{similarity_threshold}.html'\n",
    "    title = f''\n",
    "    nt = Network(\"800px\", \"100%\")\n",
    "    for n in graph_to_plot.nodes():\n",
    "        nt.add_node(n, color=colors[n.split('_')[0]])\n",
    "\n",
    "    for e in graph_to_plot.edges():\n",
    "        nt.add_edge(e[0],e[1],color='grey')\n",
    "    nt.heading = title\n",
    "    nt.show_buttons(filter_=['physics', 'nodes', 'edges', 'selection', 'layout'])\n",
    "    nt.show(f'graph_visualizations/{save_file}')"
   ]
  },
  {
   "cell_type": "code",
   "execution_count": 86,
   "id": "bf28f329-3eec-4572-a919-8c93c096b036",
   "metadata": {},
   "outputs": [],
   "source": [
    "def plot_graph_algorithm_results(similarity_threshold):\n",
    "    G = generate_graph_from_similarity_matrix(similarity_threshold)\n",
    "    dominant_results, mis_results = [pd.read_csv(os.path.join('results','dropna',alg,f'{similarity_threshold}_{0}.csv'), index_col=[0]) for alg in ['dominant','mis']]\n",
    "    dominant_results = [transform_node_label(x) for x in dominant_results.values]\n",
    "    print(dominant_results)\n",
    "    mis_results = [transform_node_label(x) for x in mis_results.values]\n",
    "    \n",
    "    for algorithm, algorithm_results in [('dominant', dominant_results),('mis',mis_results)]:\n",
    "        graph_to_plot = nx.relabel_nodes(G,transform_node_label)\n",
    "        save_file = f'{algorithm}_{similarity_threshold}.html'\n",
    "        title = f''\n",
    "        nt = Network(\"800px\", \"100%\")\n",
    "        for n in graph_to_plot.nodes():\n",
    "            is_node_selected = n in algorithm_results\n",
    "            nt.add_node(n, \n",
    "                        color='red' if is_node_selected else 'black', \n",
    "                        size=40 if is_node_selected else 20 )\n",
    "\n",
    "        for e in graph_to_plot.edges():\n",
    "            nt.add_edge(e[0],e[1],color='grey')\n",
    "        nt.heading = title\n",
    "        nt.show_buttons(filter_=['physics','nodes', 'edges', 'selection', 'layout'])\n",
    "        nt.show(f'graph_visualizations/{save_file}')"
   ]
  },
  {
   "cell_type": "code",
   "execution_count": 93,
   "id": "38dc502d-d5fe-43e4-93ff-b9c1189d0712",
   "metadata": {},
   "outputs": [],
   "source": [
    "default_edge_color='grey'\n",
    "default_node_color='lightskyblue'"
   ]
  },
  {
   "cell_type": "code",
   "execution_count": 149,
   "id": "607fb628-bdef-4e19-b457-0a907fa1a98b",
   "metadata": {},
   "outputs": [],
   "source": [
    "def plot_graph_algorithm_results_from_both_algorithms(similarity_threshold):\n",
    "    #G = generate_graph_from_similarity_matrix(similarity_threshold)\n",
    "    graph_file_name=f'graphs/graph_{similarity_threshold}_dropna_adj'\n",
    "    G = nx.read_adjlist(graph_file_name)\n",
    "    \n",
    "    for algorithm_run in range(0,4):\n",
    "        dominant_results, mis_results = [pd.read_csv(os.path.join('results','dropna',alg,f'{similarity_threshold}_{algorithm_run}.csv'), index_col=[0]) for alg in ['dominant','mis']]\n",
    "        dominant_results = [transform_node_label(x) for x in dominant_results.values]\n",
    "        print(dominant_results)\n",
    "        mis_results = [transform_node_label(x) for x in mis_results.values]\n",
    "\n",
    "        graph_to_plot = G\n",
    "        save_file = f'both_{similarity_threshold}_{algorithm_run}.html'\n",
    "        title = f''\n",
    "        nt = Network(\"800px\", \"100%\")\n",
    "        for n in graph_to_plot.nodes():\n",
    "            color = default_node_color\n",
    "            if n in dominant_results:\n",
    "                color = 'tomato'\n",
    "            if n in mis_results:\n",
    "                color = 'limegreen'\n",
    "            if n in dominant_results and n in mis_results:\n",
    "                color = 'mediumorchid'\n",
    "            nt.add_node(n, \n",
    "                        color=color, \n",
    "                        size=40 if color!=default_node_color else 20 )\n",
    "\n",
    "        for e in graph_to_plot.edges():\n",
    "            nt.add_edge(e[0],e[1],color=default_edge_color)\n",
    "        nt.heading = title\n",
    "        nt.repulsion(node_distance=100, central_gravity=0.2, spring_length=200, spring_strength=0.05, damping=0.09)\n",
    "        nt.show_buttons(filter_=['physics','nodes', 'edges', 'selection', 'layout'])\n",
    "        nt.show(f'graph_visualizations/{save_file}')"
   ]
  },
  {
   "cell_type": "code",
   "execution_count": 150,
   "id": "2c118f7e-9944-4572-9292-4d3c98c18de6",
   "metadata": {},
   "outputs": [
    {
     "name": "stdout",
     "output_type": "stream",
     "text": [
      "['BBOB_17_5', 'BBOB_8_2', 'BBOB_23_2', 'BBOB_23_5', 'BBOB_21_2', 'BBOB_1_5', 'BBOB_3_2', 'BBOB_14_2', 'CEC2013_12_1', 'BBOB_19_4', 'BBOB_17_4', 'BBOB_19_1', 'BBOB_18_5', 'BBOB_22_3', 'BBOB_23_4', 'BBOB_23_1', 'BBOB_21_4', 'BBOB_1_4', 'BBOB_14_1', 'BBOB_1_3', 'BBOB_17_2']\n",
      "['CEC2013_19_1', 'BBOB_18_5', 'BBOB_23_4', 'CEC2015_4_1', 'BBOB_1_1', 'BBOB_23_1', 'BBOB_1_4', 'BBOB_14_1', 'BBOB_2_5', 'BBOB_1_3', 'CEC2014_28_1', 'BBOB_17_2', 'BBOB_17_5', 'BBOB_23_2', 'BBOB_23_5', 'BBOB_14_2', 'BBOB_19_4', 'BBOB_17_4', 'BBOB_19_1', 'BBOB_21_4', 'BBOB_22_3']\n",
      "['BBOB_1_1', 'CEC2014_30_1', 'BBOB_1_4', 'BBOB_3_1', 'BBOB_16_4', 'BBOB_23_3', 'CEC2015_4_1', 'BBOB_1_3', 'BBOB_12_3', 'BBOB_17_2', 'BBOB_17_5', 'BBOB_23_5', 'BBOB_23_2', 'BBOB_14_2', 'BBOB_22_3', 'BBOB_17_1', 'BBOB_16_5', 'BBOB_17_4', 'BBOB_19_1', 'BBOB_18_5', 'BBOB_19_4', 'CEC2014_28_1', 'BBOB_21_4']\n",
      "['CEC2015_4_1', 'BBOB_3_1', 'CEC2014_4_1', 'CEC2013_9_1', 'BBOB_18_2', 'BBOB_18_5', 'BBOB_1_1', 'BBOB_23_1', 'BBOB_1_4', 'CEC2014_28_1', 'BBOB_12_3', 'BBOB_17_5', 'BBOB_17_2', 'BBOB_1_3', 'BBOB_23_3', 'BBOB_22_3', 'BBOB_23_2', 'BBOB_23_5', 'BBOB_14_2', 'BBOB_19_1', 'BBOB_19_4', 'BBOB_21_4']\n"
     ]
    }
   ],
   "source": [
    "for similarity_threshold in [0.97]:\n",
    "    plot_graph_algorithm_results_from_both_algorithms(similarity_threshold)"
   ]
  },
  {
   "cell_type": "code",
   "execution_count": null,
   "id": "f4b2f9d7-b3f6-49c4-acc4-b01588d20732",
   "metadata": {},
   "outputs": [],
   "source": [
    "for similarity_threshold in [0.9,0.95,0.97]:\n",
    "    plot_graph(similarity_threshold)\n",
    "    plot_graph_algorithm_results(similarity_threshold)"
   ]
  },
  {
   "cell_type": "code",
   "execution_count": 98,
   "id": "5fbc7129-325f-40cb-ac15-88fbd4c195d3",
   "metadata": {},
   "outputs": [],
   "source": [
    "def analyze_connectivity(similarity_threshold):\n",
    "    G = generate_graph_from_similarity_matrix(similarity_threshold)\n",
    "    print(f'similarity: {similarity_threshold}')\n",
    "    print(f'number of connected components: {nx.number_connected_components(G)}')\n",
    "    for comp in nx.connected_components(G):\n",
    "        print(len(comp))"
   ]
  },
  {
   "cell_type": "code",
   "execution_count": 99,
   "id": "8f539da6-ec17-40a5-aaaa-d3fbc9ada815",
   "metadata": {},
   "outputs": [
    {
     "name": "stdout",
     "output_type": "stream",
     "text": [
      "similarity: 0.9\n",
      "number of connected components: 9\n",
      "201\n",
      "11\n",
      "1\n",
      "1\n",
      "3\n",
      "1\n",
      "1\n",
      "1\n",
      "1\n"
     ]
    }
   ],
   "source": [
    "analyze_connectivity(0.9)"
   ]
  },
  {
   "cell_type": "code",
   "execution_count": null,
   "id": "cf1447b0-08e7-4862-b300-366d96dfc0a8",
   "metadata": {},
   "outputs": [],
   "source": [
    "sorted(G.degree, key=lambda x: x[1])[0:20]"
   ]
  },
  {
   "cell_type": "code",
   "execution_count": 135,
   "id": "93971836-4ddc-4db3-9af8-bf1d24a7466c",
   "metadata": {},
   "outputs": [],
   "source": [
    "g=nx.read_adjlist('data/graph_0.5_adj',nodetype=tuple,delimiter=' ')"
   ]
  },
  {
   "cell_type": "code",
   "execution_count": 136,
   "id": "b89ec6df-3792-478f-99b7-545e1e7bc0f1",
   "metadata": {},
   "outputs": [
    {
     "data": {
      "text/plain": [
       "40"
      ]
     },
     "execution_count": 136,
     "metadata": {},
     "output_type": "execute_result"
    }
   ],
   "source": [
    "len(g.nodes)"
   ]
  },
  {
   "cell_type": "code",
   "execution_count": 137,
   "id": "c5604a8f-e1a7-42a5-9e49-492c81e4170f",
   "metadata": {},
   "outputs": [
    {
     "data": {
      "text/plain": [
       "('(', \"'\", 'b', 'b', 'o', 'b', \"'\", ',')"
      ]
     },
     "execution_count": 137,
     "metadata": {},
     "output_type": "execute_result"
    }
   ],
   "source": [
    "list(g.nodes)[0]"
   ]
  },
  {
   "cell_type": "code",
   "execution_count": null,
   "id": "ebb08429-6e3b-4b76-9c78-663fd684a2c5",
   "metadata": {},
   "outputs": [],
   "source": []
  },
  {
   "cell_type": "code",
   "execution_count": 142,
   "id": "67d749d5-8be8-4166-be9f-7e8b83d82414",
   "metadata": {},
   "outputs": [],
   "source": [
    "from networkx import write_adjlist\n",
    "for na_handling_setting_name in ['dropna']:\n",
    "    for min_similarity_threshold in [0.5,0.7,0.9,0.95,0.97]:\n",
    "        graph_file_name=f'graphs/graph_{min_similarity_threshold}_{na_handling_setting_name}_adj'\n",
    "        g=generate_graph_from_similarity_matrix(min_similarity_threshold, na_handling_setting_name)\n",
    "        if not os.path.isfile(graph_file_name):\n",
    "            write_adjlist(nx.relabel_nodes(g,transform_node_label),graph_file_name)"
   ]
  },
  {
   "cell_type": "code",
   "execution_count": 166,
   "id": "eba939b4-28f5-4a8c-8f57-6f477f239f38",
   "metadata": {},
   "outputs": [
    {
     "name": "stderr",
     "output_type": "stream",
     "text": [
      "/opt/conda/lib/python3.9/site-packages/seaborn/distributions.py:2211: UserWarning: `displot` is a figure-level function and does not accept the ax= paramter. You may wish to try histplot.\n",
      "  warnings.warn(msg, UserWarning)\n"
     ]
    },
    {
     "name": "stdout",
     "output_type": "stream",
     "text": [
      "0.5: 188.40723981900453\n"
     ]
    },
    {
     "name": "stderr",
     "output_type": "stream",
     "text": [
      "/opt/conda/lib/python3.9/site-packages/seaborn/distributions.py:2211: UserWarning: `displot` is a figure-level function and does not accept the ax= paramter. You may wish to try histplot.\n",
      "  warnings.warn(msg, UserWarning)\n"
     ]
    },
    {
     "name": "stdout",
     "output_type": "stream",
     "text": [
      "0.7: 182.23529411764707\n"
     ]
    },
    {
     "ename": "IndexError",
     "evalue": "tuple index out of range",
     "output_type": "error",
     "traceback": [
      "\u001b[0;31m---------------------------------------------------------------------------\u001b[0m",
      "\u001b[0;31mIndexError\u001b[0m                                Traceback (most recent call last)",
      "\u001b[0;32m/tmp/ipykernel_17692/3763901139.py\u001b[0m in \u001b[0;36m<module>\u001b[0;34m\u001b[0m\n\u001b[1;32m      3\u001b[0m     \u001b[0mg\u001b[0m\u001b[0;34m=\u001b[0m\u001b[0mgenerate_graph_from_similarity_matrix\u001b[0m\u001b[0;34m(\u001b[0m\u001b[0mmin_similarity_threshold\u001b[0m\u001b[0;34m,\u001b[0m \u001b[0mna_handling_setting_name\u001b[0m\u001b[0;34m)\u001b[0m\u001b[0;34m\u001b[0m\u001b[0;34m\u001b[0m\u001b[0m\n\u001b[1;32m      4\u001b[0m     \u001b[0mnode_degrees\u001b[0m\u001b[0;34m=\u001b[0m\u001b[0;34m[\u001b[0m\u001b[0mx\u001b[0m\u001b[0;34m[\u001b[0m\u001b[0;36m1\u001b[0m\u001b[0;34m]\u001b[0m \u001b[0;32mfor\u001b[0m \u001b[0mx\u001b[0m \u001b[0;32min\u001b[0m \u001b[0mg\u001b[0m\u001b[0;34m.\u001b[0m\u001b[0mdegree\u001b[0m\u001b[0;34m]\u001b[0m\u001b[0;34m\u001b[0m\u001b[0;34m\u001b[0m\u001b[0m\n\u001b[0;32m----> 5\u001b[0;31m     \u001b[0msns\u001b[0m\u001b[0;34m.\u001b[0m\u001b[0mdisplot\u001b[0m\u001b[0;34m(\u001b[0m\u001b[0mnode_degrees\u001b[0m\u001b[0;34m,\u001b[0m \u001b[0max\u001b[0m\u001b[0;34m=\u001b[0m\u001b[0max\u001b[0m\u001b[0;34m[\u001b[0m\u001b[0mthreshold_index\u001b[0m\u001b[0;34m]\u001b[0m\u001b[0;34m)\u001b[0m\u001b[0;34m\u001b[0m\u001b[0;34m\u001b[0m\u001b[0m\n\u001b[0m\u001b[1;32m      6\u001b[0m     \u001b[0mmean_degree\u001b[0m\u001b[0;34m=\u001b[0m\u001b[0mnp\u001b[0m\u001b[0;34m.\u001b[0m\u001b[0marray\u001b[0m\u001b[0;34m(\u001b[0m\u001b[0mnode_degrees\u001b[0m\u001b[0;34m)\u001b[0m\u001b[0;34m.\u001b[0m\u001b[0mmean\u001b[0m\u001b[0;34m(\u001b[0m\u001b[0;34m)\u001b[0m\u001b[0;34m\u001b[0m\u001b[0;34m\u001b[0m\u001b[0m\n\u001b[1;32m      7\u001b[0m     \u001b[0mprint\u001b[0m\u001b[0;34m(\u001b[0m\u001b[0;34mf'{min_similarity_threshold}: {mean_degree}'\u001b[0m\u001b[0;34m)\u001b[0m\u001b[0;34m\u001b[0m\u001b[0;34m\u001b[0m\u001b[0m\n",
      "\u001b[0;31mIndexError\u001b[0m: tuple index out of range"
     ]
    },
    {
     "data": {
      "image/png": "[encoded data removed]",
      "text/plain": [
       "<Figure size 432x288 with 5 Axes>"
      ]
     },
     "metadata": {
      "needs_background": "light"
     },
     "output_type": "display_data"
    },
    {
     "data": {
      "image/png": "[encoded data removed]",
      "text/plain": [
       "<Figure size 360x360 with 1 Axes>"
      ]
     },
     "metadata": {
      "needs_background": "light"
     },
     "output_type": "display_data"
    },
    {
     "data": {
      "image/png": "[encoded data removed]",
      "text/plain": [
       "<Figure size 360x360 with 1 Axes>"
      ]
     },
     "metadata": {
      "needs_background": "light"
     },
     "output_type": "display_data"
    }
   ],
   "source": [
    "ax=plt.subplots(1,5)\n",
    "for threshold_index, min_similarity_threshold in enumerate([0.5,0.7,0.9,0.95,0.97]):\n",
    "    g=generate_graph_from_similarity_matrix(min_similarity_threshold, na_handling_setting_name)\n",
    "    node_degrees=[x[1] for x in g.degree]\n",
    "    sns.displot(node_degrees, ax=ax[threshold_index])\n",
    "    mean_degree=np.array(node_degrees).mean()\n",
    "    print(f'{min_similarity_threshold}: {mean_degree}')"
   ]
  },
  {
   "cell_type": "code",
   "execution_count": null,
   "id": "fc8a4cb9-13ff-4895-9928-45b61c82613c",
   "metadata": {},
   "outputs": [],
   "source": []
  }
 ],
 "metadata": {
  "kernelspec": {
   "display_name": "Python 3 (ipykernel)",
   "language": "python",
   "name": "python3"
  },
  "language_info": {
   "codemirror_mode": {
    "name": "ipython",
    "version": 3
   },
   "file_extension": ".py",
   "mimetype": "text/x-python",
   "name": "python",
   "nbconvert_exporter": "python",
   "pygments_lexer": "ipython3",
   "version": "3.9.7"
  }
 },
 "nbformat": 4,
 "nbformat_minor": 5
}
