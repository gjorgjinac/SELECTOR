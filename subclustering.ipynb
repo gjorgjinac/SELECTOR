{
 "cells": [
  {
   "cell_type": "code",
   "execution_count": 1,
   "id": "cd77664c-79eb-4cf1-a7ea-763501b848e5",
   "metadata": {},
   "outputs": [],
   "source": [
    "from ela_feature_definition import ela_feature_names\n",
    "import pandas as pd\n",
    "import random\n",
    "import numpy as np"
   ]
  },
  {
   "cell_type": "code",
   "execution_count": 73,
   "id": "304d660e-4b7a-451d-b77e-8405d0c94af9",
   "metadata": {},
   "outputs": [],
   "source": [
    "def set_random_seed(seed):\n",
    "    np.random.seed(seed)\n",
    "    random.seed(seed)\n",
    "set_random_seed(42)"
   ]
  },
  {
   "cell_type": "code",
   "execution_count": 86,
   "id": "1a7f7480-93df-4fca-9603-4c3dc62645a9",
   "metadata": {},
   "outputs": [
    {
     "name": "stdout",
     "output_type": "stream",
     "text": [
      "0\n"
     ]
    }
   ],
   "source": [
    "cluster_12_df = pd.read_csv('data/hierarchical_clustering_12.csv',index_col=[0,1,2])\n",
    "cluster_label_column='clustering_12_clusters'\n",
    "cluster_sizes=pd.DataFrame(cluster_12_df[cluster_label_column]).value_counts()\n",
    "max_cluster_size=cluster_sizes.max()\n",
    "largest_cluster_id = cluster_sizes[cluster_sizes==max_cluster_size].index[0][0]\n",
    "print(largest_cluster_id)\n",
    "ela=cluster_12_df[cluster_12_df[cluster_label_column]==largest_cluster_id]\n",
    "ela=ela[set(ela_feature_names).intersection(ela.columns)]\n",
    "removed_instances=cluster_12_df[cluster_12_df[cluster_label_column]!=largest_cluster_id]\n",
    "initial_cluster_count=cluster_sizes.shape[0]"
   ]
  },
  {
   "cell_type": "code",
   "execution_count": 87,
   "id": "eb6c0705-7cfa-45c8-a811-94c08cbeb4a9",
   "metadata": {},
   "outputs": [
    {
     "data": {
      "text/plain": [
       "12"
      ]
     },
     "execution_count": 87,
     "metadata": {},
     "output_type": "execute_result"
    }
   ],
   "source": [
    "initial_cluster_count"
   ]
  },
  {
   "cell_type": "code",
   "execution_count": 88,
   "id": "aed49292-1d15-401e-87a9-353958d44619",
   "metadata": {},
   "outputs": [
    {
     "data": {
      "text/plain": [
       "(190, 63)"
      ]
     },
     "execution_count": 88,
     "metadata": {},
     "output_type": "execute_result"
    }
   ],
   "source": [
    "ela.shape"
   ]
  },
  {
   "cell_type": "code",
   "execution_count": 89,
   "id": "46a2bba9-3e59-468c-acfe-06dc52cc2a86",
   "metadata": {},
   "outputs": [],
   "source": [
    "import numpy as np\n",
    "\n",
    "from matplotlib import pyplot as plt\n",
    "from scipy.cluster.hierarchy import dendrogram\n",
    "from sklearn.datasets import load_iris\n",
    "from sklearn.cluster import AgglomerativeClustering\n",
    "\n",
    "\n",
    "def plot_dendrogram(model, **kwargs):\n",
    "    # Create linkage matrix and then plot the dendrogram\n",
    "\n",
    "    # create the counts of samples under each node\n",
    "    counts = np.zeros(model.children_.shape[0])\n",
    "    n_samples = len(model.labels_)\n",
    "    for i, merge in enumerate(model.children_):\n",
    "        current_count = 0\n",
    "        for child_idx in merge:\n",
    "            if child_idx < n_samples:\n",
    "                current_count += 1  # leaf node\n",
    "            else:\n",
    "                current_count += counts[child_idx - n_samples]\n",
    "        counts[i] = current_count\n",
    "\n",
    "    linkage_matrix = np.column_stack(\n",
    "        [model.children_, model.distances_, counts]\n",
    "    ).astype(float)\n",
    "\n",
    "    # Plot the corresponding dendrogram\n",
    "    dendrogram(linkage_matrix, **kwargs)"
   ]
  },
  {
   "cell_type": "code",
   "execution_count": 90,
   "id": "45f33c13-9f11-400c-8892-19e39856437c",
   "metadata": {},
   "outputs": [
    {
     "data": {
      "text/plain": [
       "(190, 63)"
      ]
     },
     "execution_count": 90,
     "metadata": {},
     "output_type": "execute_result"
    }
   ],
   "source": [
    "ela.shape"
   ]
  },
  {
   "cell_type": "code",
   "execution_count": 91,
   "id": "7b9d0657-5083-45c7-82a4-931bd19ff1e7",
   "metadata": {},
   "outputs": [
    {
     "data": {
      "image/png": "[encoded data removed]",
      "text/plain": [
       "<Figure size 432x288 with 1 Axes>"
      ]
     },
     "metadata": {
      "needs_background": "light"
     },
     "output_type": "display_data"
    }
   ],
   "source": [
    "metric='cosine'\n",
    "agglomerative = AgglomerativeClustering(distance_threshold=0, n_clusters=None,affinity =metric\n",
    "                                           ,linkage='average')\n",
    "\n",
    "agglomerative = agglomerative.fit(ela)\n",
    "plt.title(\"Hierarchical Clustering Dendrogram\")\n",
    "plot_dendrogram(agglomerative, truncate_mode=\"level\", p=4)\n",
    "plt.xlabel(\"Number of points in node (or index of point if no parenthesis).\")\n",
    "plt.show()\n",
    "    "
   ]
  },
  {
   "cell_type": "code",
   "execution_count": 92,
   "id": "60cfbd0c-1edf-46c2-9e3f-9561e69ec2fb",
   "metadata": {},
   "outputs": [],
   "source": [
    "from sklearn.cluster import *\n",
    "from sklearn.preprocessing import MinMaxScaler\n",
    "import pandas as pd\n",
    "from sklearn.cluster import KMeans, AgglomerativeClustering, SpectralClustering\n",
    "from sklearn.manifold import TSNE\n",
    "from sklearn.decomposition import *\n",
    "from sklearn.metrics.cluster import adjusted_rand_score\n",
    "from sklearn.pipeline import Pipeline\n",
    "import numpy as np\n",
    "from sklearn.mixture import GaussianMixture\n",
    "from scipy.cluster.hierarchy import dendrogram, linkage\n",
    "from sklearn.metrics import pairwise_distances\n",
    "from sklearn import metrics\n",
    "from sklearn.datasets import make_blobs\n",
    "from sklearn.cluster import KMeans\n",
    "from sklearn.metrics import silhouette_samples, silhouette_score\n",
    "import matplotlib.cm as cm\n",
    "import numpy as np\n",
    "from pathlib import Path\n",
    "clustering_results={}\n",
    "df=ela\n",
    "for i in range(2, 60):\n",
    "    results_for_cluster={}\n",
    "    cluster_name = f'cluster_{i}'\n",
    "    labels =  AgglomerativeClustering(n_clusters=i, affinity='cosine', linkage='complete').fit(df).labels_\n",
    "    results_for_cluster['labels'] = labels\n",
    "    samples_per_cluster={k[0]:v for k,v in pd.DataFrame(labels).value_counts().to_dict().items()}\n",
    "    results_for_cluster['samples_per_cluster']=samples_per_cluster\n",
    "    results_for_cluster['silhouette_score'] = metrics.silhouette_score(df, labels, metric='cosine')\n",
    "    sample_silhouette_values = metrics.silhouette_samples(df, labels, metric='cosine')\n",
    "    clustering_results[cluster_name]=results_for_cluster"
   ]
  },
  {
   "cell_type": "code",
   "execution_count": 93,
   "id": "e549b963-e1af-414c-abab-395ad20a4fcd",
   "metadata": {},
   "outputs": [],
   "source": [
    "clustering_results_df=pd.DataFrame(clustering_results).T"
   ]
  },
  {
   "cell_type": "code",
   "execution_count": 101,
   "id": "66089d91-f147-4cdd-a3ca-1712585d3cca",
   "metadata": {},
   "outputs": [],
   "source": [
    "clustering_results_df.to_csv('subclustering_stats.csv')"
   ]
  },
  {
   "cell_type": "code",
   "execution_count": 95,
   "id": "995ff060-3f06-4bd2-89cb-bc66bc0dfd59",
   "metadata": {},
   "outputs": [],
   "source": [
    "selected_cluster_counts = [10,15,21,34,46,48]"
   ]
  },
  {
   "cell_type": "code",
   "execution_count": 96,
   "id": "59157a36-c432-47c6-8548-e964a6b502f6",
   "metadata": {},
   "outputs": [
    {
     "name": "stderr",
     "output_type": "stream",
     "text": [
      "/tmp/ipykernel_18469/366114174.py:7: SettingWithCopyWarning: \n",
      "A value is trying to be set on a copy of a slice from a DataFrame.\n",
      "Try using .loc[row_indexer,col_indexer] = value instead\n",
      "\n",
      "See the caveats in the documentation: https://pandas.pydata.org/pandas-docs/stable/user_guide/indexing.html#returning-a-view-versus-a-copy\n",
      "  removed_instances[f'subclustering_{cluster_count}_clusters']=removed_instances[cluster_label_column]\n",
      "/tmp/ipykernel_18469/366114174.py:7: SettingWithCopyWarning: \n",
      "A value is trying to be set on a copy of a slice from a DataFrame.\n",
      "Try using .loc[row_indexer,col_indexer] = value instead\n",
      "\n",
      "See the caveats in the documentation: https://pandas.pydata.org/pandas-docs/stable/user_guide/indexing.html#returning-a-view-versus-a-copy\n",
      "  removed_instances[f'subclustering_{cluster_count}_clusters']=removed_instances[cluster_label_column]\n",
      "/tmp/ipykernel_18469/366114174.py:7: SettingWithCopyWarning: \n",
      "A value is trying to be set on a copy of a slice from a DataFrame.\n",
      "Try using .loc[row_indexer,col_indexer] = value instead\n",
      "\n",
      "See the caveats in the documentation: https://pandas.pydata.org/pandas-docs/stable/user_guide/indexing.html#returning-a-view-versus-a-copy\n",
      "  removed_instances[f'subclustering_{cluster_count}_clusters']=removed_instances[cluster_label_column]\n",
      "/tmp/ipykernel_18469/366114174.py:7: SettingWithCopyWarning: \n",
      "A value is trying to be set on a copy of a slice from a DataFrame.\n",
      "Try using .loc[row_indexer,col_indexer] = value instead\n",
      "\n",
      "See the caveats in the documentation: https://pandas.pydata.org/pandas-docs/stable/user_guide/indexing.html#returning-a-view-versus-a-copy\n",
      "  removed_instances[f'subclustering_{cluster_count}_clusters']=removed_instances[cluster_label_column]\n",
      "/tmp/ipykernel_18469/366114174.py:7: SettingWithCopyWarning: \n",
      "A value is trying to be set on a copy of a slice from a DataFrame.\n",
      "Try using .loc[row_indexer,col_indexer] = value instead\n",
      "\n",
      "See the caveats in the documentation: https://pandas.pydata.org/pandas-docs/stable/user_guide/indexing.html#returning-a-view-versus-a-copy\n",
      "  removed_instances[f'subclustering_{cluster_count}_clusters']=removed_instances[cluster_label_column]\n",
      "/tmp/ipykernel_18469/366114174.py:7: SettingWithCopyWarning: \n",
      "A value is trying to be set on a copy of a slice from a DataFrame.\n",
      "Try using .loc[row_indexer,col_indexer] = value instead\n",
      "\n",
      "See the caveats in the documentation: https://pandas.pydata.org/pandas-docs/stable/user_guide/indexing.html#returning-a-view-versus-a-copy\n",
      "  removed_instances[f'subclustering_{cluster_count}_clusters']=removed_instances[cluster_label_column]\n"
     ]
    }
   ],
   "source": [
    "metric='cosine'\n",
    "for cluster_count in selected_cluster_counts:\n",
    "    agglomerative = AgglomerativeClustering(n_clusters=cluster_count,affinity =metric ,linkage='complete')\n",
    "    labels=agglomerative.fit(ela).labels_\n",
    "    elements_per_cluster = pd.DataFrame(labels).value_counts()\n",
    "    ela[f'subclustering_{cluster_count}_clusters']=[initial_cluster_count + l for l in labels]\n",
    "    removed_instances[f'subclustering_{cluster_count}_clusters']=removed_instances[cluster_label_column]"
   ]
  },
  {
   "cell_type": "code",
   "execution_count": 97,
   "id": "a994bbcf-a35a-4490-be48-6aecaeaaeb9c",
   "metadata": {},
   "outputs": [],
   "source": [
    "all_instances=ela.append(removed_instances)"
   ]
  },
  {
   "cell_type": "code",
   "execution_count": 98,
   "id": "d6cd2875-902f-4ffe-b76e-d2562df015d2",
   "metadata": {},
   "outputs": [
    {
     "data": {
      "text/plain": [
       "(221, 70)"
      ]
     },
     "execution_count": 98,
     "metadata": {},
     "output_type": "execute_result"
    }
   ],
   "source": [
    "all_instances.shape"
   ]
  },
  {
   "cell_type": "code",
   "execution_count": 99,
   "id": "c3e741d8-6d69-495d-87dd-da80d991d790",
   "metadata": {},
   "outputs": [],
   "source": [
    "all_instances.to_csv('data/subclustering.csv')"
   ]
  },
  {
   "cell_type": "code",
   "execution_count": null,
   "id": "387d6956-b181-451b-9d80-9910c103951a",
   "metadata": {},
   "outputs": [],
   "source": []
  }
 ],
 "metadata": {
  "kernelspec": {
   "display_name": "Python 3 (ipykernel)",
   "language": "python",
   "name": "python3"
  },
  "language_info": {
   "codemirror_mode": {
    "name": "ipython",
    "version": 3
   },
   "file_extension": ".py",
   "mimetype": "text/x-python",
   "name": "python",
   "nbconvert_exporter": "python",
   "pygments_lexer": "ipython3",
   "version": "3.9.7"
  }
 },
 "nbformat": 4,
 "nbformat_minor": 5
}
